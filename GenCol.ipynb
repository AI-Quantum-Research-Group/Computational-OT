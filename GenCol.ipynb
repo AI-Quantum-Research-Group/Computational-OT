{
 "cells": [
  {
   "cell_type": "markdown",
   "metadata": {},
   "source": [
    "# Genetic Column Generation: High-dimensional multi-marginal optimal transport\n",
    "\n",
    "We consider the discrete case throughout this presentation. Let $X$ be a compact subset of $\\mathbb{R}^d$ (finite for the discrete problem). $\\mathcal{P}_{sym}(X^N)$ denotes the set of symmetric Borel probability measures on $X^N$. Kantorovich plans $\\gamma \\in \\mathcal{P}_{sym}(X^N)$ are symmetric, meaning for all permutations $\\sigma$ on $\\{1,\\ldots,N\\}$, we have:\n",
    "\n",
    "$$\n",
    "\\gamma(A_1 \\times \\dots \\times A_N) =\n",
    "\\gamma(A_{\\sigma(1)} \\times \\dots \\times A_{\\sigma(N)})\n",
    "$$\n",
    "\n",
    "for any Borel subsets $A_1, \\dots, A_N \\subset X$. The cost function $c: X^N \\to \\mathbb{R}$ is continuous, and the marginal is $\\lambda^* \\in \\mathcal{P}(X)$.\n",
    "\n",
    "## Discretization\n",
    "\n",
    "Assuming $X$ is discretized into $l$ points:\n",
    "\n",
    "$$\n",
    "X = \\{ a_1, \\dots, a_l \\}\n",
    "$$\n",
    "\n",
    "Then the marginal is:\n",
    "\n",
    "$$\n",
    "\\lambda^* = \\sum_{i=1}^{l} m_i \\delta_{a_i}\n",
    "\\quad \\text{with } m_i \\ge 0, \\; \\sum_{i=1}^l m_i = 1\n",
    "$$\n",
    "\n",
    "where $m_i$ is the mass at $a_i$. The Kantorovich plan $\\gamma$ can be viewed as a tensor $(\\gamma_{i_1, \\dots, i_N})$ of order $N$:\n",
    "\n",
    "$$\n",
    "\\gamma = \\sum_{i_1, \\dots, i_N=1}^{l}\n",
    "\\gamma_{i_1 \\dots i_N} \\delta_{a_{i_1}} \\otimes\n",
    "\\dots \\otimes \\delta_{a_{i_N}}\n",
    "$$\n",
    "\n",
    "## Discretized Symmetric Multi-Marginal OT\n",
    "\n",
    "The primal problem is:\n",
    "\n",
    "$$\n",
    "\\min_{\\gamma \\in \\mathcal{P}_{sym}(X^N)}\n",
    "C[\\gamma] = \\sum_{i_1, \\dots, i_N = 1}^{l}\n",
    "\\gamma_{i_1 \\dots i_N} c(a_{i_1}, \\dots, a_{i_N})\n",
    "$$\n",
    "\n",
    "subject to:\n",
    "\n",
    "$$\n",
    "\\sum_{i_2, \\dots, i_N = 1}^{l}\n",
    "\\gamma_{i_1, i_2, \\dots, i_N} = \\lambda^*(\\{a_{i_1}\\})\n",
    "\\quad \\forall i_1 \\in \\{ 1, \\dots, l \\}\n",
    "$$\n",
    "\n",
    "The associated dual problem is:\n",
    "\n",
    "$$\n",
    "\\max_{y \\in \\mathbb{R}^l} \\sum_{i=1}^{l} y_i \\lambda^*(\\{a_i\\})\n",
    "$$\n",
    "\n",
    "subject to:\n",
    "\n",
    "$$\n",
    "\\frac{1}{N} \\left( y_{i_1} + \\dots + y_{i_{N}} \\right)\n",
    "\\le c(a_{i_1}, \\dots, a_{i_N})\n",
    "\\quad \\forall i_1, \\dots, i_N \\in \\{ 1, ..., l \\}\n",
    "$$\n",
    "\n",
    "## Drawbacks of Primal and Dual Problems\n",
    "\n",
    "The primal problem has $l^N$ unknowns and $l$ constraints, whereas the dual problem has $l$ unknowns and $l^N$ constraints.\n",
    "\n",
    "## Extremal Formulation\n",
    "\n",
    "To reduce the problem dimension, we use extreme points and the column generation algorithm.\n",
    "\n",
    "**Extreme Points Definition:** A point $s$ in a convex set $S$ of a vector space is extreme if:\n",
    "\n",
    "$$\n",
    "\\nexists x, y \\in S, x \\neq y \\text{ and } 0 < t < 1 : s = t x + (1 - t) y\n",
    "$$\n",
    "\n",
    "## Extremal Formulation of Optimal Transport\n",
    "\n",
    "Define the set of $1/N$ quantized probability measures $\\lambda \\in \\mathcal{P}(X)$:\n",
    "\n",
    "$$\n",
    "\\mathcal{P}_{1/N}(X) =\n",
    "\\left\\{\n",
    "\\lambda \\in \\mathcal{P}(X) :\n",
    "\\lambda(\\{a_i\\}) \\in \\left\\{ \\frac{0}{N}, \\frac{1}{N}, ..., \\frac{N}{N} \\right\\}\n",
    "\\;\\; \\forall i \\in \\{ 1, ..., l \\}\n",
    "\\right\\}\n",
    "$$\n",
    "\n",
    "Any $\\gamma \\in \\mathcal{P}_{sym}(X^N)$ can be uniquely expressed as a convex combination of extreme points $\\gamma_{\\lambda} \\in \\mathcal{P}_{sym}(X^N)$:\n",
    "\n",
    "$$\n",
    "\\gamma = \\sum_{\\lambda \\in \\mathcal{P}_{1/N}(X)} \\alpha_{\\lambda} \\gamma_{\\lambda}\n",
    "\\quad \\text{with } \\alpha_{\\lambda} \\ge 0, \\;\\; \\sum_{\\lambda \\in \\mathcal{P}_{1/N}(X)} \\alpha_{\\lambda} = 1\n",
    "$$\n",
    "\n",
    "## More About the Extremal Points\n",
    "\n",
    "1. Dirac measures $\\delta_{a_{i_k}}$ are extreme points of $\\mathcal{P}(X)$. In the discrete case, the only extreme points are Dirac measures.\n",
    "\n",
    "2. Any measure $\\lambda \\in \\mathcal{P}(X)$ can be written as a convex combination of these extreme points.\n",
    "\n",
    "**The process:**\n",
    "\n",
    "1. Fix $\\lambda \\in \\mathcal{P}_{1/N}(X)$, with:\n",
    "\n",
    "$$\n",
    "\\lambda = \\frac{1}{N} \\sum_{k=1}^N \\delta_{a_{i_k}}\n",
    "$$\n",
    "\n",
    "where $a_{i_k} \\in X$ can be repetitive.\n",
    "\n",
    "2. Define:\n",
    "\n",
    "$$\n",
    "\\tilde{\\gamma}_\\lambda = \\prod_{k=1}^N \\delta_{a_{i_k}} = \\delta_{(a_{i_1}, \\dots, a_{i_N})}\n",
    "$$\n",
    "\n",
    "which is an extreme point (Dirac measure on $X^N$).\n",
    "\n",
    "3. Define:\n",
    "\n",
    "$$\n",
    "\\gamma_\\lambda = S_N(\\tilde{\\gamma}_\\lambda) \\in \\mathcal{P}_{sym}(X^N)\n",
    "$$\n",
    "\n",
    "where $S_N$ is a symmetrizer:\n",
    "\n",
    "$$\n",
    "S_N(\\tau)(A_1 \\times \\cdots \\times A_N) = \\frac{1}{N!} \\sum_{\\sigma \\in \\text{PER}} \\tau(A_{\\sigma(1)} \\times \\cdots \\times A_{\\sigma(N)})\n",
    "$$\n",
    "\n",
    "Thus:\n",
    "\n",
    "$$\n",
    "\\gamma_\\lambda = \\frac{1}{N!} \\sum_{\\sigma \\in \\text{PER}} \\delta_{(a_{i_{\\sigma(1)}}, \\dots, a_{i_{\\sigma(N)}})}\n",
    "$$\n",
    "\n",
    "## Rewriting the MMOT Problem\n",
    "\n",
    "The minimization problem can be stated as:\n",
    "\n",
    "$$\n",
    "\\min_{\\alpha \\in \\mathbb{R}^{\\binom{N+l-1}{N}}} \\sum_{\\lambda \\in \\mathcal{P}_{1/N}(X)} c_{\\lambda} \\alpha_{\\lambda}\n",
    "$$\n",
    "\n",
    "subject to:\n",
    "\n",
    "$$\n",
    "A \\alpha = \\lambda^*\n",
    "$$\n",
    "\n",
    "where:\n",
    "\n",
    "$$\n",
    "c_{\\lambda} = \\sum_{i_1, \\dots, i_N=1}^{l} (\\gamma_{\\lambda})_{i_1 \\dots i_N} c(a_{i_1}, \\dots, a_{i_N})\n",
    "$$\n",
    "\n",
    "## Complexity\n",
    "\n",
    "The number of unknowns is $\\binom{N + l - 1}{N}$, which can still be large for conventional methods.\n",
    "\n",
    "## Column Generation\n",
    "\n",
    "1. Choose a small subset $I \\subset \\overline{I} = \\{ 1, 2, \\dots, \\binom{N + l - 1}{N} \\}$.\n",
    "\n",
    "2. Denote $A_I$ as a submatrix of $A$ (corresponding to $I$ columns), $c_I$ as a submatrix of $c$.\n",
    "\n",
    "   The Primal Problem becomes the Restricted Master Problem (RMP):\n",
    "\n",
    "   $$\n",
    "   \\min_{\\alpha \\in \\mathbb{R}^{\\sharp I}} c_I^T \\alpha\n",
    "   $$\n",
    "\n",
    "   subject to:\n",
    "\n",
    "   $$\n",
    "   A_I \\alpha = \\lambda^*\n",
    "   \\quad \\alpha \\ge 0\n",
    "   $$\n",
    "\n",
    "3. The Dual of the Restricted Master Problem is:\n",
    "\n",
    "   $$\n",
    "   \\max_{y \\in \\mathbb{R}^l} y^T \\lambda^*\n",
    "   $$\n",
    "\n",
    "   subject to:\n",
    "\n",
    "   $$\n",
    "   A_I^T y \\le c_I\n",
    "   $$\n",
    "\n",
    "4. Use the solution $y^*$ of the Dual to solve the Pricing Problem:\n",
    "\n",
    "   $$\n",
    "   \\max \\; \\lambda^T y^* - c_{\\lambda}\n",
    "   $$\n",
    "\n",
    "   subject to:\n",
    "\n",
    "   $$\n",
    "   \\lambda \\in \\mathcal{P}_{1/N}(X)\n",
    "   $$\n",
    "\n",
    "   Note: The problem is NP-complete.\n",
    "\n",
    "## Genetic Method of Columns Generation\n",
    "\n",
    "1. **Selection:** Allow only columns $\\lambda$ with positive coefficients $\\alpha_{\\lambda}$ to be parents, picking parents randomly.\n",
    "\n",
    "2. **Mutation:** Search for the nearest neighbor of the parent in the column space $\\mathcal{P}_{1/N}(X)$ with respect to the Wasserstein-1 distance (induced by the Euclidean metric). Move one particle to the nearest location.\n",
    "\n",
    "3. **Recombination:** Combine parents with crossover probability to form new columns.\n",
    "\n",
    "4. **Algorithm Iteration:** Generate columns that can further reduce the cost and update the matrix until convergence.\n",
    "   After several iterations, the algorithm converges to an optimal solution.\n"
   ]
  },
  {
   "cell_type": "code",
   "metadata": {
    "ExecuteTime": {
     "end_time": "2024-08-29T21:58:08.078188Z",
     "start_time": "2024-08-29T21:58:06.331463Z"
    }
   },
   "source": [
    "import random\n",
    "\n",
    "import numpy as np\n",
    "from scipy.optimize import linprog\n",
    "from matplotlib import pyplot as plt\n",
    "\n",
    "from itertools import permutations\n",
    "\n",
    "from tqdm import trange"
   ],
   "outputs": [],
   "execution_count": 1
  },
  {
   "cell_type": "markdown",
   "metadata": {},
   "source": [
    "The matrix $A_I$ is initialized with $l \\times l$ identity matrix and then we add $(\\beta -1) \\times l$ random columns."
   ]
  },
  {
   "cell_type": "code",
   "metadata": {
    "ExecuteTime": {
     "end_time": "2024-08-29T21:58:08.105197Z",
     "start_time": "2024-08-29T21:58:08.095149Z"
    }
   },
   "source": [
    "def place_at_bin(arr, N):\n",
    "    max_choice = N - arr.sum()\n",
    "    i = random.randint(0, max_choice)\n",
    "    index = random.choice(np.where(arr == 0)[0])\n",
    "    arr[index] = i\n",
    "\n",
    "\n",
    "def generate_random_cols(N, matrix_size):\n",
    "    A = np.zeros(matrix_size)\n",
    "    i = 0\n",
    "    while i < matrix_size[1]:\n",
    "        while A[:, i].sum() != N:\n",
    "            place_at_bin(A[:, i], N)\n",
    "        # check for any repetitions\n",
    "        for j in range(i):\n",
    "            if np.all(A[:, j] == A[:, i]):\n",
    "                A[:, i] = 0\n",
    "                i -= 1\n",
    "        i += 1\n",
    "    return A / N"
   ],
   "outputs": [],
   "execution_count": 2
  },
  {
   "cell_type": "code",
   "metadata": {
    "ExecuteTime": {
     "end_time": "2024-08-29T21:58:08.852436Z",
     "start_time": "2024-08-29T21:58:08.841664Z"
    }
   },
   "source": [
    "def initialize_AI(N, grid_size, beta=5):\n",
    "    A = np.eye(grid_size)\n",
    "    random_cols = generate_random_cols(N, (grid_size, beta - 1))\n",
    "    return np.hstack((A, random_cols))\n"
   ],
   "outputs": [],
   "execution_count": 3
  },
  {
   "cell_type": "markdown",
   "metadata": {},
   "source": [
    "The cost $c = \\sum_{1 \\le i < j \\le N} w(a_i, a_j)$ has a faster way to compute\n",
    "$$ c_{\\lambda} = \\frac{N^2}{2} \\lambda^T C \\lambda - \\frac{N}{2} diag(C)^T \\lambda. $$\n",
    "\n",
    "See\n",
    "1. Gero Friesecke and Daniela Vögler. Breaking the Curse of Dimension in Multi-Marginal\n",
    "Kantorovich Optimal Transport on Finite State Spaces. SIAM J. Math. Anal., 50(4):39964019, 2018.\n",
    "2. Gero Friesecke, Andreas S. Schulz and Daniela Vögler. Genetic column generation: Fast computation of high-dimensional multi-marginal optimal transport problems."
   ]
  },
  {
   "cell_type": "code",
   "metadata": {
    "ExecuteTime": {
     "end_time": "2024-08-29T21:58:08.907714Z",
     "start_time": "2024-08-29T21:58:08.892278Z"
    }
   },
   "source": [
    "\n",
    "\n",
    "def solve_rmp(AI, cI, marginal):\n",
    "    result = linprog(cI, A_eq=AI, b_eq=marginal, bounds=(0, None))\n",
    "    return result.x, result.fun\n",
    "\n",
    "\n",
    "def solve_dual(AI, cI, marginal):\n",
    "    c_dual = -marginal  # because linprog does minimization\n",
    "    result = linprog(c_dual, A_ub=AI.T, b_ub=cI,\n",
    "                     bounds=[(None, 0) for _ in range(AI.shape[0])],\n",
    "                     method='highs')\n",
    "    return result.x\n",
    "\n",
    "\n",
    "def mutate_parent(parent, grid_size):\n",
    "    child = parent.copy()\n",
    "    change_index = random.choice(np.where(parent > 0)[0])\n",
    "    direction = random.choice([-1, 1])\n",
    "    destination = max(min(grid_size-1, change_index + direction), 0)\n",
    "    child[destination] += parent[change_index]\n",
    "    child[change_index] -= parent[change_index]\n",
    "    child /= child.sum()\n",
    "    return child\n",
    "\n",
    "\n",
    "def compute_cost(lambd, N, cost_matrix: np.ndarray):\n",
    "    return (N**2/2 * lambd.T @ cost_matrix @ lambd -\n",
    "            N/2 * cost_matrix.diagonal().T @ lambd)"
   ],
   "outputs": [],
   "execution_count": 4
  },
  {
   "cell_type": "code",
   "metadata": {
    "ExecuteTime": {
     "end_time": "2024-08-29T21:58:08.945691Z",
     "start_time": "2024-08-29T21:58:08.928478Z"
    }
   },
   "source": [
    "def genetic_column_generation(\n",
    "        N,\n",
    "        l,\n",
    "        beta,\n",
    "        pair_potential,\n",
    "        coordinates_of_sites,\n",
    "        marginal,\n",
    "        maxiter,\n",
    "        maxsamples\n",
    "):\n",
    "    a, b = coordinates_of_sites\n",
    "    x = y = np.linspace(a, b, l)\n",
    "    X, Y = np.meshgrid(x, y, indexing='ij')\n",
    "    cost_matrix = pair_potential(X, Y)\n",
    "    AI = initialize_AI(N, l)\n",
    "\n",
    "    cI = np.empty(AI.shape[1])\n",
    "    for j in range(AI.shape[1]):\n",
    "        cI[j] = compute_cost(AI[:, j], N, cost_matrix)\n",
    "    samples = 0\n",
    "    iter = 0\n",
    "    gain = -1\n",
    "\n",
    "    cost_history = np.empty((maxiter, 1))\n",
    "    dual_value_history = np.empty((maxiter, l))\n",
    "\n",
    "    with trange(maxiter) as t:\n",
    "        for i in t:\n",
    "            alpha_I, cost = solve_rmp(AI, cI, marginal)\n",
    "            cost_history[i] = cost\n",
    "            y_star = solve_dual(AI, cI, marginal)\n",
    "            dual_value_history[i, :] = y_star\n",
    "\n",
    "            while gain <= 0 and samples <= maxsamples:\n",
    "                # Select a random active column of AI\n",
    "                parent_index = random.choice(np.where(alpha_I > 0)[0])\n",
    "                parent = AI[:, parent_index]\n",
    "                child = mutate_parent(parent, l)\n",
    "                c_child = compute_cost(child, N, cost_matrix)\n",
    "\n",
    "                # Calculate gain from adding the child column\n",
    "                gain = np.dot(child.T, y_star) - c_child\n",
    "\n",
    "                samples += 1\n",
    "\n",
    "            # Update AI and cI with the new child column if there's a positive gain\n",
    "            if gain > 0:\n",
    "                AI = np.hstack((AI, child[:, np.newaxis]))\n",
    "                cI = np.append(cI, c_child)\n",
    "                if AI.shape[1] > beta * l:\n",
    "                    # Clear the oldest inactive columns\n",
    "                    inactive_indices = np.where(alpha_I == 0)[0]\n",
    "                    AI = np.delete(AI, inactive_indices[:l], axis=1)\n",
    "                    cI = np.delete(cI, inactive_indices[:l])\n",
    "\n",
    "            iter += 1\n",
    "\n",
    "            t.set_postfix(samples=samples, cost=cost)\n",
    "\n",
    "    # Return the final set of columns and configuration\n",
    "    alpha_I, cost = solve_rmp(AI, cI, marginal)\n",
    "    cost_history[i] = cost\n",
    "    y_star = solve_dual(AI, cI, marginal)\n",
    "    dual_value_history[i, :] = y_star\n",
    "    return AI, alpha_I, cost_history, dual_value_history\n"
   ],
   "outputs": [],
   "execution_count": 5
  },
  {
   "cell_type": "markdown",
   "metadata": {},
   "source": [
    "We set the marginal $\\lambda^*$ as\n",
    "\n",
    "$$ \\lambda^* (\\{ a_i \\}) = c_0 \\cdot \\left(0.2 + \\sin^2 \\left(\\pi \\frac{i}{l+1}\\right)\\right) $$\n",
    "\n",
    "where the constant $c_0$ is set such that $\\sum \\lambda^* (\\{a_i\\}) = 1$.\n",
    "\n",
    "And we use the regularized Coulomb interaction\n",
    "$$ w(a_i, a_j) = \\frac{1}{\\sqrt{\\varepsilon^2 + |a_i - a_j|^2}}. $$"
   ]
  },
  {
   "cell_type": "code",
   "metadata": {
    "ExecuteTime": {
     "end_time": "2024-08-29T21:58:08.971708Z",
     "start_time": "2024-08-29T21:58:08.963482Z"
    }
   },
   "source": [
    "N = 10  # Number of marginals\n",
    "l = 120  # Number of sites\n",
    "beta = 5  # Hyperparameter for controlling the maximum columns\n",
    "maxiter = 8000  # Maximum number of iterations\n",
    "# maxsamples = 1000  # Maximum number of samples for mutations\n",
    "\n",
    "grid_points = np.arange(1, l+1)\n",
    "\n",
    "marginal = 0.2 + np.power(np.sin(np.pi * grid_points / (l+1)), 2)\n",
    "marginal /= marginal.sum()\n",
    "\n",
    "\n",
    "def pair_potential(x, y, eps=0.1):\n",
    "    \"Use regulatized Coulomb interaction\"\n",
    "    return 1 / np.sqrt(eps**2 + np.power(x - y, 2))"
   ],
   "outputs": [],
   "execution_count": 6
  },
  {
   "cell_type": "code",
   "metadata": {
    "ExecuteTime": {
     "end_time": "2024-08-29T21:58:09.032390Z",
     "start_time": "2024-08-29T21:58:09.024749Z"
    }
   },
   "source": [
    "print(\"1-DIMENSIONAL SETTING.\")\n",
    "print(f\"Number of marginals {N=}\")\n",
    "print(f\"Number of grid points {l=}\")\n",
    "print(f\"Hyperparameter for controlling the maximum columns {beta=}\")\n",
    "print(f\"Maximum number of iterations {maxiter=}\")"
   ],
   "outputs": [
    {
     "name": "stdout",
     "output_type": "stream",
     "text": [
      "1-DIMENSIONAL SETTING.\n",
      "Number of marginals N=10\n",
      "Number of grid points l=120\n",
      "Hyperparameter for controlling the maximum columns beta=5\n",
      "Maximum number of iterations maxiter=8000\n"
     ]
    }
   ],
   "execution_count": 7
  },
  {
   "cell_type": "code",
   "metadata": {
    "ExecuteTime": {
     "end_time": "2024-08-29T21:58:09.392776Z",
     "start_time": "2024-08-29T21:58:09.089869Z"
    }
   },
   "source": [
    "plt.scatter(grid_points, marginal, s=3)\n",
    "plt.grid()"
   ],
   "outputs": [
    {
     "data": {
      "text/plain": [
       "<Figure size 640x480 with 1 Axes>"
      ],
      "image/png": "[encoded data removed]"
     },
     "metadata": {},
     "output_type": "display_data"
    }
   ],
   "execution_count": 8
  },
  {
   "cell_type": "code",
   "metadata": {
    "ExecuteTime": {
     "end_time": "2024-08-29T21:58:54.397624Z",
     "start_time": "2024-08-29T21:58:09.416010Z"
    }
   },
   "source": [
    "ai, alpha, cost_history, dual_value_history = genetic_column_generation(\n",
    "    N, l, beta, pair_potential, (0, 1), marginal, maxiter, 100000)"
   ],
   "outputs": [
    {
     "name": "stderr",
     "output_type": "stream",
     "text": [
      "100%|██████████| 8000/8000 [00:44<00:00, 178.03it/s, cost=444, samples=1e+5]\n"
     ]
    }
   ],
   "execution_count": 9
  },
  {
   "cell_type": "code",
   "metadata": {
    "ExecuteTime": {
     "end_time": "2024-08-29T21:58:54.616005Z",
     "start_time": "2024-08-29T21:58:54.426621Z"
    }
   },
   "source": [
    "gamma = ai @ alpha\n",
    "print(f\"{gamma.shape=}\")\n",
    "\n",
    "plt.scatter(grid_points, gamma, s=3)\n",
    "plt.grid()\n",
    "plt.show()"
   ],
   "outputs": [
    {
     "name": "stdout",
     "output_type": "stream",
     "text": [
      "gamma.shape=(120,)\n"
     ]
    },
    {
     "data": {
      "text/plain": [
       "<Figure size 640x480 with 1 Axes>"
      ],
      "image/png": "[encoded data removed]"
     },
     "metadata": {},
     "output_type": "display_data"
    }
   ],
   "execution_count": 10
  }
 ],
 "metadata": {
  "kernelspec": {
   "display_name": ".venv",
   "language": "python",
   "name": "python3"
  },
  "language_info": {
   "codemirror_mode": {
    "name": "ipython",
    "version": 3
   },
   "file_extension": ".py",
   "mimetype": "text/x-python",
   "name": "python",
   "nbconvert_exporter": "python",
   "pygments_lexer": "ipython3",
   "version": "3.10.14"
  }
 },
 "nbformat": 4,
 "nbformat_minor": 2
}
