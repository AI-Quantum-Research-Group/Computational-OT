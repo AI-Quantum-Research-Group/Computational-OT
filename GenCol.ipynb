{
 "cells": [
  {
   "cell_type": "code",
   "execution_count": 16,
   "metadata": {},
   "outputs": [],
   "source": [
    "import random\n",
    "\n",
    "import numpy as np\n",
    "from scipy.optimize import linprog\n",
    "from scipy.linalg import lstsq\n",
    "from matplotlib import pyplot as plt\n",
    "\n",
    "from itertools import permutations\n",
    "\n",
    "from tqdm import trange"
   ]
  },
  {
   "cell_type": "markdown",
   "metadata": {},
   "source": [
    "The matrix $A_I$ is initialized with $l \\times l$ identity matrix and then we add $(\\beta -1) \\times l$ random columns."
   ]
  },
  {
   "cell_type": "code",
   "execution_count": 17,
   "metadata": {},
   "outputs": [],
   "source": [
    "def place_at_bin(arr, N):\n",
    "    max_choice = N - arr.sum()\n",
    "    i = random.randint(0, max_choice)\n",
    "    index = random.choice(np.where(arr == 0)[0])\n",
    "    arr[index] = i\n",
    "\n",
    "\n",
    "def generate_random_cols(N, matrix_size):\n",
    "    A = np.zeros(matrix_size)\n",
    "    i = 0\n",
    "    while i < matrix_size[1]:\n",
    "        while A[:, i].sum() != N:\n",
    "            place_at_bin(A[:, i], N)\n",
    "        # check for any repetitions\n",
    "        for j in range(i):\n",
    "            if np.all(A[:, j] == A[:, i]):\n",
    "                A[:, i] = 0\n",
    "                i -= 1\n",
    "        i += 1\n",
    "    return A / N"
   ]
  },
  {
   "cell_type": "code",
   "execution_count": 18,
   "metadata": {},
   "outputs": [],
   "source": [
    "def initialize_AI(N, grid_size, beta=5):\n",
    "    A = np.eye(grid_size)\n",
    "    random_cols = generate_random_cols(N, (grid_size, beta - 1))\n",
    "    return np.hstack((A, random_cols))\n"
   ]
  },
  {
   "cell_type": "markdown",
   "metadata": {},
   "source": [
    "The cost $c = \\sum_{1 \\le i < j \\le N} w(a_i, a_j)$ has a faster way to compute\n",
    "$$ c_{\\lambda} = \\frac{N^2}{2} \\lambda^T C \\lambda - \\frac{N}{2} diag(C)^T \\lambda. $$\n",
    "\n",
    "See\n",
    "1. Gero Friesecke and Daniela Vögler. Breaking the Curse of Dimension in Multi-Marginal\n",
    "Kantorovich Optimal Transport on Finite State Spaces. SIAM J. Math. Anal., 50(4):39964019, 2018.\n",
    "2. Gero Friesecke, Andreas S. Schulz and Daniela Vögler. Genetic column generation: Fast computation of high-dimensional multi-marginal optimal transport problems."
   ]
  },
  {
   "cell_type": "code",
   "execution_count": 19,
   "metadata": {},
   "outputs": [],
   "source": [
    "def solve_rmp(AI, cI, marginal):\n",
    "    result = linprog(cI, A_eq=AI, b_eq=marginal, bounds=(0, None))\n",
    "    return result.x, result.fun\n",
    "\n",
    "\n",
    "def solve_dual(AI, cI, marginal):\n",
    "    c_dual = -marginal  # because linprog does minimization\n",
    "    result = linprog(c_dual, A_ub=AI.T, b_ub=cI,\n",
    "                     bounds=[(None, 0) for _ in range(AI.shape[0])],\n",
    "                     method='highs')\n",
    "    return result.x\n",
    "\n",
    "\n",
    "def mutate_parent(parent, grid_size):\n",
    "    child = parent.copy()\n",
    "    change_index = random.choice(np.where(parent > 0)[0])\n",
    "    direction = random.choice([-1, 1])\n",
    "    destination = max(min(grid_size-1, change_index + direction), 0)\n",
    "    child[destination] += parent[change_index]\n",
    "    child[change_index] -= parent[change_index]\n",
    "    child /= child.sum()\n",
    "    return child\n",
    "\n",
    "\n",
    "def compute_cost(lambd, N, cost_matrix: np.ndarray):\n",
    "    return (N**2/2 * lambd.T @ cost_matrix @ lambd -\n",
    "            N/2 * cost_matrix.diagonal().T @ lambd)"
   ]
  },
  {
   "cell_type": "code",
   "execution_count": 20,
   "metadata": {},
   "outputs": [],
   "source": [
    "def genetic_column_generation(\n",
    "        N,\n",
    "        l,\n",
    "        beta,\n",
    "        pair_potential,\n",
    "        coordinates_of_sites,\n",
    "        marginal,\n",
    "        maxiter,\n",
    "        maxsamples\n",
    "):\n",
    "    a, b = coordinates_of_sites\n",
    "    x = y = np.linspace(a, b, l)\n",
    "    X, Y = np.meshgrid(x, y, indexing='ij')\n",
    "    cost_matrix = pair_potential(X, Y)\n",
    "\n",
    "    # AI = np.eye(l)\n",
    "    # AI = np.random.randn(l, l)\n",
    "    # AI /= AI.sum(axis=0)\n",
    "    AI = initialize_AI(N, l)\n",
    "    print('Initialized A_I')\n",
    "\n",
    "    cI = np.empty(AI.shape[1])\n",
    "    for j in range(AI.shape[1]):\n",
    "        cI[j] = compute_cost(AI[:, j], N, cost_matrix)\n",
    "    samples = 0\n",
    "    iter = 0\n",
    "    gain = -1\n",
    "\n",
    "    cost_history = np.empty((maxiter, 1))\n",
    "    dual_value_history = np.empty((maxiter, l))\n",
    "\n",
    "    with trange(maxiter) as t:\n",
    "        for i in t:\n",
    "            alpha_I, cost = solve_rmp(AI, cI, marginal)\n",
    "            cost_history[i] = cost\n",
    "            y_star = solve_dual(AI, cI, marginal)\n",
    "            dual_value_history[i, :] = y_star\n",
    "\n",
    "            while gain <= 0 and samples <= maxsamples:\n",
    "                # Select a random active column of AI\n",
    "                parent_index = random.choice(np.where(alpha_I > 0)[0])\n",
    "                parent = AI[:, parent_index]\n",
    "                child = mutate_parent(parent, l)\n",
    "                c_child = compute_cost(child, N, cost_matrix)\n",
    "\n",
    "                # Calculate gain from adding the child column\n",
    "                gain = np.dot(child.T, y_star) - c_child\n",
    "\n",
    "                samples += 1\n",
    "\n",
    "            # Update AI and cI with the new child column if there's a positive gain\n",
    "            if gain > 0:\n",
    "                AI = np.hstack((AI, child[:, np.newaxis]))\n",
    "                # cI = np.hstack((cI, c_child))\n",
    "                cI = np.append(cI, c_child)\n",
    "                if AI.shape[1] > beta * l:\n",
    "                    # Clear the oldest inactive columns\n",
    "                    inactive_indices = np.where(alpha_I == 0)[0]\n",
    "                    AI = np.delete(AI, inactive_indices[:l], axis=1)\n",
    "                    cI = np.delete(cI, inactive_indices[:l])\n",
    "\n",
    "            iter += 1\n",
    "\n",
    "            t.set_postfix(samples=samples, cost=cost)\n",
    "\n",
    "    # Return the final set of columns and configuration\n",
    "    alpha_I, cost = solve_rmp(AI, cI, marginal)\n",
    "    cost_history[i] = cost\n",
    "    y_star = solve_dual(AI, cI, marginal)\n",
    "    dual_value_history[i, :] = y_star\n",
    "    return AI, alpha_I, cost_history, dual_value_history\n"
   ]
  },
  {
   "cell_type": "markdown",
   "metadata": {},
   "source": [
    "We set the marginal $\\lambda^*$ as\n",
    "\n",
    "$$ \\lambda^* (\\{ a_i \\}) = c_0 \\cdot \\left(0.2 + \\sin^2 \\left(\\pi \\frac{i}{l+1}\\right)\\right) $$\n",
    "\n",
    "where the constant $c_0$ is set such that $\\sum \\lambda^* (\\{a_i\\}) = 1$.\n",
    "\n",
    "And we use the regularized Coulomb interaction\n",
    "$$ w(a_i, a_j) = \\frac{1}{\\sqrt{\\varepsilon^2 + |a_i - a_j|^2}}. $$"
   ]
  },
  {
   "cell_type": "code",
   "execution_count": 28,
   "metadata": {},
   "outputs": [],
   "source": [
    "N = 2  # Number of marginals\n",
    "l = 40  # Number of sites\n",
    "beta = 5  # Hyperparameter for controlling the maximum columns\n",
    "maxiter = 500  # Maximum number of iterations\n",
    "# maxsamples = 1000  # Maximum number of samples for mutations\n",
    "\n",
    "grid_points = np.arange(1, l+1)\n",
    "\n",
    "marginal = 0.2 + np.power(np.sin(np.pi * grid_points / (l+1)), 2)\n",
    "marginal /= marginal.sum()\n",
    "\n",
    "\n",
    "def pair_potential(x, y, eps=0.1):\n",
    "    \"Use regulatized Coulomb interaction\"\n",
    "    return 1 / np.sqrt(eps**2 + np.power(x - y, 2))"
   ]
  },
  {
   "cell_type": "code",
   "execution_count": 29,
   "metadata": {},
   "outputs": [
    {
     "name": "stdout",
     "output_type": "stream",
     "text": [
      "1-DIMENSIONAL SETTING.\n",
      "Number of marginals N=2\n",
      "Number of grid points l=40\n",
      "Hyperparameter for controlling the maximum columns beta=5\n",
      "Maximum number of iterations maxiter=500\n"
     ]
    }
   ],
   "source": [
    "print(\"1-DIMENSIONAL SETTING.\")\n",
    "print(f\"Number of marginals {N=}\")\n",
    "print(f\"Number of grid points {l=}\")\n",
    "print(f\"Hyperparameter for controlling the maximum columns {beta=}\")\n",
    "print(f\"Maximum number of iterations {maxiter=}\")"
   ]
  },
  {
   "cell_type": "code",
   "execution_count": 30,
   "metadata": {},
   "outputs": [
    {
     "data": {
      "image/png": "[encoded data removed]",
      "text/plain": [
       "<Figure size 640x480 with 1 Axes>"
      ]
     },
     "metadata": {},
     "output_type": "display_data"
    }
   ],
   "source": [
    "plt.scatter(grid_points, marginal, s=3)\n",
    "plt.grid()"
   ]
  },
  {
   "cell_type": "code",
   "execution_count": 31,
   "metadata": {},
   "outputs": [
    {
     "name": "stdout",
     "output_type": "stream",
     "text": [
      "Initialized A_I\n"
     ]
    },
    {
     "name": "stderr",
     "output_type": "stream",
     "text": [
      "100%|██████████| 500/500 [00:14<00:00, 35.20it/s, cost=10, samples=1e+5] \n"
     ]
    }
   ],
   "source": [
    "ai, alpha, cost_history, dual_value_history = genetic_column_generation(\n",
    "    N, l, beta, pair_potential, (0, 1), marginal, maxiter, 100000)"
   ]
  },
  {
   "cell_type": "code",
   "execution_count": 32,
   "metadata": {},
   "outputs": [
    {
     "name": "stdout",
     "output_type": "stream",
     "text": [
      "gamma.shape=(40,)\n"
     ]
    },
    {
     "data": {
      "image/png": "[encoded data removed]",
      "text/plain": [
       "<Figure size 640x480 with 1 Axes>"
      ]
     },
     "metadata": {},
     "output_type": "display_data"
    }
   ],
   "source": [
    "gamma = ai @ alpha\n",
    "print(f\"{gamma.shape=}\")\n",
    "\n",
    "plt.scatter(grid_points, gamma)\n",
    "plt.show()"
   ]
  },
  {
   "cell_type": "code",
   "execution_count": 33,
   "metadata": {},
   "outputs": [],
   "source": [
    "def generate_tensor(N, l, lambd):\n",
    "    indices = []\n",
    "    for i in range(l):\n",
    "        indices.extend([i] * lambd[i])\n",
    "\n",
    "    def delta(l, i):\n",
    "        return np.fromfunction(lambda j: i == j, (l,)).astype(np.int32)\n",
    "\n",
    "    def tensor_product(arrays):\n",
    "        result = arrays[0]\n",
    "        for array in arrays[1:]:\n",
    "            result = np.outer(result, array)\n",
    "            result = result.reshape(-1)\n",
    "        return result.reshape([len(arrays[0])] * len(arrays))\n",
    "\n",
    "    # Prepare tensor list\n",
    "    tensor = np.zeros([l] * N)\n",
    "\n",
    "    for perm in permutations(indices):\n",
    "        deltas = [delta(l, i) for i in perm]\n",
    "        tensor += tensor_product(deltas)\n",
    "\n",
    "    return tensor\n"
   ]
  },
  {
   "cell_type": "code",
   "execution_count": 34,
   "metadata": {},
   "outputs": [
    {
     "name": "stdout",
     "output_type": "stream",
     "text": [
      "(40, 40)\n"
     ]
    },
    {
     "ename": "NameError",
     "evalue": "name 'samples' is not defined",
     "output_type": "error",
     "traceback": [
      "\u001b[0;31m---------------------------------------------------------------------------\u001b[0m",
      "\u001b[0;31mNameError\u001b[0m                                 Traceback (most recent call last)",
      "Cell \u001b[0;32mIn[34], line 9\u001b[0m\n\u001b[1;32m      6\u001b[0m \u001b[38;5;28mprint\u001b[39m(density\u001b[38;5;241m.\u001b[39mshape)\n\u001b[1;32m      7\u001b[0m \u001b[38;5;66;03m# plt.imshow(density[20])\u001b[39;00m\n\u001b[1;32m      8\u001b[0m \u001b[38;5;66;03m# plt.show()\u001b[39;00m\n\u001b[0;32m----> 9\u001b[0m \u001b[43msamples\u001b[49m \u001b[38;5;241m<\u001b[39m\u001b[38;5;241m=\u001b[39m maxsamples\n\u001b[1;32m     10\u001b[0m nrows \u001b[38;5;241m=\u001b[39m \u001b[38;5;241m5\u001b[39m\n\u001b[1;32m     11\u001b[0m ncols \u001b[38;5;241m=\u001b[39m \u001b[38;5;241m4\u001b[39m\n",
      "\u001b[0;31mNameError\u001b[0m: name 'samples' is not defined"
     ]
    }
   ],
   "source": [
    "density = np.zeros([l] * N)\n",
    "for i, col in enumerate(ai):\n",
    "    density += alpha[i] * \\\n",
    "        generate_tensor(N, l, (N * col).astype(np.int32))\n",
    "\n",
    "print(density.shape)\n",
    "# plt.imshow(density[20])\n",
    "# plt.show()\n",
    "samples <= maxsamples\n",
    "nrows = 5\n",
    "ncols = 4\n",
    "fig, axes = plt.subplots(nrows=nrows, ncols=ncols, figsize=(15, 12))\n",
    "\n",
    "for i in range(20):\n",
    "    print(i)\n",
    "    ax = axes[i // nrows, i % ncols]\n",
    "    ax.imshow(density[i], cmap='viridis')\n",
    "    ax.set_title(f'Slice {i}')\n",
    "    ax.axis('off')\n",
    "\n",
    "plt.tight_layout()\n",
    "plt.show()\n"
   ]
  },
  {
   "cell_type": "code",
   "execution_count": null,
   "metadata": {},
   "outputs": [],
   "source": []
  }
 ],
 "metadata": {
  "kernelspec": {
   "display_name": ".venv",
   "language": "python",
   "name": "python3"
  },
  "language_info": {
   "codemirror_mode": {
    "name": "ipython",
    "version": 3
   },
   "file_extension": ".py",
   "mimetype": "text/x-python",
   "name": "python",
   "nbconvert_exporter": "python",
   "pygments_lexer": "ipython3",
   "version": "3.11.9"
  }
 },
 "nbformat": 4,
 "nbformat_minor": 2
}
